{
 "cells": [
  {
   "cell_type": "code",
   "execution_count": 14,
   "metadata": {
    "pycharm": {
     "name": "#%%\n"
    }
   },
   "outputs": [
    {
     "name": "stderr",
     "output_type": "stream",
     "text": [
      "UsageError: Line magic function `%` not found.\n"
     ]
    }
   ],
   "source": [
    "% reset -f"
   ]
  },
  {
   "cell_type": "code",
   "execution_count": 1,
   "metadata": {
    "pycharm": {
     "name": "#%%\n"
    }
   },
   "outputs": [],
   "source": [
    "import codecs\n",
    "import time\n",
    "import os\n",
    "import numpy as np\n",
    "import pandas as pd\n",
    "import papermill as pm\n",
    "import pickle"
   ]
  },
  {
   "cell_type": "code",
   "execution_count": 2,
   "metadata": {
    "pycharm": {
     "name": "#%%\n"
    }
   },
   "outputs": [],
   "source": [
    "# all optimizers 'optimizers': \n",
    "# hyperparameter list\n",
    "hyper_parameters = {'epoch': 5, 'batch_size': 120, 'layer_size': [1, 2, 4], 'unit_size': [8, 16, 32],\n",
    "                    'activations': ['relu', 'sigmoid', 'softmax', 'softplus', 'softsign', 'tanh', 'selu', 'elu'],\n",
    "                    'loss_functions': ['mse', 'mape', 'mae'], 'models': ['GRU', 'LSTM', 'SimpleRNN'],\n",
    "                    'optimizers': [\"SGD\", \"RMSprop\", \"Adam\", \"Adadelta\", \"Adagrad\", \"Adamax\", \"Nadam\", \"Ftrl\"]}\n",
    "\n",
    "learning_rate_ranges = [0.0001, 0.09]\n",
    "dropout_rate_ranges = [0.1, 0.5]\n",
    "ga_parameters = {'max_num_iteration': 10,\n",
    "                 'population_size': 10,\n",
    "                 'crossover_chromosome_size': 6,\n",
    "                 'mutation_chromosome_size': 3,\n",
    "                 'crossover_rate': 0.6,\n",
    "                 'mutation_rate': 0.3, 'crossover_point_size': 1, 'mutation_point_size': 3,\n",
    "                 'prob_chr': [0.3, 0.2, 0.15, 0.12, 0.10, 0.07, 0.03, 0.02, 0.006, 0.004]}"
   ]
  },
  {
   "cell_type": "code",
   "execution_count": 3,
   "metadata": {
    "pycharm": {
     "name": "#%%\n"
    }
   },
   "outputs": [],
   "source": [
    "class Chromosome:\n",
    "    def __init__(self, chr_id=0):\n",
    "        \"\"\"\n",
    "\n",
    "        :param chr_id: Value for calling the chromosome\n",
    "        \"\"\"\n",
    "        self.chr_id = chr_id\n",
    "        self.generation_number = 0\n",
    "        self.genes = []\n",
    "        self.test_MSE = 0\n",
    "        self.train_MSE = 0\n",
    "        self.test_MAE = 0\n",
    "        self.train_MAE = 0\n",
    "        self.test_RMSE = 0\n",
    "        self.train_RMSE = 0\n",
    "        self.test_R2 = 0\n",
    "        self.train_R2 = 0\n",
    "        self.test_MAPE = 0\n",
    "        self.train_MAPE = 0\n",
    "        self.test_MAX_ERROR = 0\n",
    "        self.train_MAX_ERROR = 0\n",
    "        self.test_EXP_VAR_SCORE = 0\n",
    "        self.train_EXP_VAR_SCORE = 0\n",
    "        self.fitness = 0\n",
    "\n",
    "    def __str__(self):\n",
    "        return self.genes.__str__()\n",
    "\n",
    "    def __repr__(self):\n",
    "        return self.genes.__str__()\n",
    "\n",
    "    def __eq__(self):\n",
    "        return self.genes.__str__()\n",
    "\n",
    "    def generate_genes(self, SEED):\n",
    "        \"\"\"\n",
    "        This function generates random individuals.\n",
    "        :SEED: To produce similar values \n",
    "        :return: A gene is added to the chromosome.\n",
    "        \"\"\"\n",
    "        np.random.seed(SEED + int(self.chr_id))  # may be required for fixation.\n",
    "        self.genes = []\n",
    "        self.genes.append(np.around(\n",
    "            np.random.uniform(learning_rate_ranges[0], learning_rate_ranges[1]),\n",
    "            6))  # learning rate\n",
    "        self.genes.append(np.around(\n",
    "            np.random.uniform(dropout_rate_ranges[0], dropout_rate_ranges[1]),\n",
    "            3))  # dropout rate\n",
    "        self.genes.append(np.random.choice(hyper_parameters['layer_size']))  # layer size\n",
    "        self.genes.append(np.random.choice(hyper_parameters['unit_size']))  # unit size\n",
    "        self.genes.append(np.random.choice(hyper_parameters['activations']))  # activation function\n",
    "        self.genes.append(np.random.choice(hyper_parameters['loss_functions']))  # loss function\n",
    "        self.genes.append(list())\n",
    "        if self.genes[2] == 1:\n",
    "            self.genes[6].append(np.random.choice(hyper_parameters['models']))\n",
    "        elif self.genes[2] == 2:\n",
    "            self.genes[6].append(np.random.choice(hyper_parameters['models'], size=2).tolist())\n",
    "        elif self.genes[2] == 4:\n",
    "            self.genes[6].append(np.random.choice(hyper_parameters['models']))\n",
    "        self.genes.append(np.random.choice(hyper_parameters['optimizers']))  # optimizer\n",
    "\n",
    "    def change_genes(self, liste):\n",
    "        \"\"\"Takes the given list l as chromosome genes.\"\"\"\n",
    "        self.genes = []\n",
    "        self.genes = liste.copy()\n",
    "\n",
    "    def calculate_fitness(self, notebook, epoch, batch_size):\n",
    "        \"\"\"\n",
    "        This will run the main file and export from the main file.\n",
    "        notebook: The notebook file to be executed\n",
    "        epoch: Number of epochs\n",
    "        batch_size: Batch size :return:\n",
    "        \"\"\"\n",
    "        print(\"Executed genes\", self.genes)\n",
    "        model_number = str(self.generation_number) + '_' + str(self.chr_id)\n",
    "        pm.execute_notebook('{}.ipynb'.format(notebook),\n",
    "                            'notebooks/{}_{}.ipynb'.format(self.generation_number, self.chr_id),\n",
    "                            parameters=dict(model_number=model_number, learning_rate=np.float64(self.genes[0]),\n",
    "                                            dropout_rate=np.float64(self.genes[1]),\n",
    "                                            layer_size=int(self.genes[2]),\n",
    "                                            units=int(self.genes[3]),\n",
    "                                            activation_function=self.genes[4],\n",
    "                                            loss_function=self.genes[5], epoch=epoch, batch_size=batch_size,\n",
    "                                            models=self.genes[6], optimizers=self.genes[7]))\n",
    "        df_results = pd.read_csv(\n",
    "            \"performances/df_results{}.csv\".format(model_number))\n",
    "        self.test_MSE = df_results['MSE'][0]\n",
    "        self.train_MSE = df_results['MSE'][1]\n",
    "        self.test_MAE = df_results['MAE'][0]\n",
    "        self.train_MAE = df_results['MAE'][1]\n",
    "        self.test_RMSE = df_results['RMSE'][0]\n",
    "        self.train_RMSE = df_results['RMSE'][1]\n",
    "        self.test_R2 = df_results['R2'][0]\n",
    "        self.train_R2 = df_results['R2'][1]\n",
    "        self.test_MAPE = df_results['MAPE'][0]\n",
    "        self.train_MAPE = df_results['MAPE'][1]\n",
    "        self.test_MAX_ERROR = df_results['MAX_ERROR'][0]\n",
    "        self.train_MAX_ERROR = df_results['MAX_ERROR'][1]\n",
    "        self.test_EXP_VAR_SCORE = df_results['EXP_VAR_SCORE'][0]\n",
    "        self.train_EXP_VAR_SCORE = df_results['EXP_VAR_SCORE'][1]\n",
    "        self.fitness = min(self.test_MSE, 500)\n",
    "\n",
    "\n",
    "class Population:\n",
    "    def __init__(self, size, generation):\n",
    "        self.generation = generation\n",
    "        self.size = size\n",
    "        self.chromosomes = []  # Chromosome objects will be placed.\n",
    "        self.best, self.worst, self.avg = 0, 0, 0\n",
    "\n",
    "    def init_pop(self):\n",
    "        print(\"initializing population\")\n",
    "        for i in range(self.size):\n",
    "            chrom = Chromosome(chr_id=i)\n",
    "            chrom.generation_number = self.generation\n",
    "            self.chromosomes.append(chrom)\n",
    "\n",
    "    def sort_pop(self):\n",
    "        return self.chromosomes.sort(key=lambda x: x.fitness, reverse=False)\n",
    "\n",
    "    def calculate_best_avg_worst(self):\n",
    "        self.sort_pop()\n",
    "        self.best = round(self.chromosomes[0].fitness, 3)\n",
    "        _total = 0\n",
    "        for i, ind in enumerate(self.chromosomes):\n",
    "            _total += ind.fitness\n",
    "        self.avg = max(round(_total / self.size, 2), 500)\n",
    "        self.worst = max(round(self.chromosomes[-1].fitness, 2), 500)\n",
    "\n",
    "    def print_pop(self):\n",
    "        ga_text_file = codecs.open(\"results\\\\ga-\" + \".txt\", \"a+\")\n",
    "        ga_text_file.write(\n",
    "            \"--------------------------------------------------\\n\")\n",
    "        ga_text_file.write(\n",
    "            \"Population #\\t{}\\tBest\\t{}\\tAvg\\t{}\\tWorst\\t{}\".format(self.generation, self.best, self.avg, self.worst))\n",
    "        ga_text_file.write(\n",
    "            \"\\n--------------------------------------------------\\n\")\n",
    "        for i, x in enumerate(self.chromosomes):\n",
    "            ga_text_file.write(\n",
    "                \"Individual #\\t{}\\t{}\\tFitness\\t{}\\ttest_MSE\\t{}\\ttrain_MSE\\t{}\\ttest_MAE\\t{}\\ttrain_MAE\\t{}\\ttest_RMSE\\t{}\\ttrain_RMSE\\t{}\\ttest_R2\\t{}\\ttrain_R2\\t{}\\ttest_MAPE\\t{}\\ttrain_MAPE\\t{}\\ttest_MAX_ERROR\\t{}\\ttrain_MAX_ERROR\\t{}\\ttest_EXP_VAR_SCORE\\t{}\\ttrain_EXP_VAR_SCORE\\t{}\\n\".format(\n",
    "                    i, x.genes, round(x.fitness, 3), round(x.test_MSE, 3), round(x.train_MSE, 3), round(x.test_MAE, 3),\n",
    "                    round(x.train_MAE, 3), round(x.test_RMSE, 3), round(x.train_RMSE, 3), round(x.test_R2, 3),\n",
    "                    round(x.train_R2, 3), round(x.test_MAPE, 3), round(x.train_MAPE, 3), round(x.test_MAX_ERROR, 3),\n",
    "                    round(x.train_MAX_ERROR, 3), round(x.test_EXP_VAR_SCORE, 3), round(x.train_EXP_VAR_SCORE, 3)))\n",
    "        ga_text_file.close()\n",
    "\n",
    "    def reap_pop(self):\n",
    "        self.chromosomes = self.chromosomes[:self.size]\n",
    "\n",
    "    def __str__(self):\n",
    "        return self.chromosomes.__str__()\n",
    "\n",
    "    def __repr__(self):\n",
    "        return self.chromosomes.__str__()"
   ]
  },
  {
   "cell_type": "code",
   "execution_count": 4,
   "metadata": {
    "pycharm": {
     "name": "#%%\n"
    }
   },
   "outputs": [],
   "source": [
    "def crossover(p1, p2, points):\n",
    "    if points <= 2:  # We took precautions to ensure that the 6th gene does not change during crossover.\n",
    "        p1, p2 = list(p1), list(p2)\n",
    "        c1, c2 = p1[:points] + p2[points:], p2[:points] + p1[points:]\n",
    "    else:\n",
    "        p1, p2 = list(p1), list(p2)\n",
    "        c1, c2 = p1[:points] + p2[points:], p2[:points] + p1[points:]\n",
    "        c1[6] = p1[6]\n",
    "        c2[6] = p2[6]\n",
    "\n",
    "    return c1, c2\n",
    "\n",
    "\n",
    "def sum_to_x(n, x):\n",
    "    values = [0.0, x] + list(np.random.uniform(low=0.0, high=x, size=n - 1))\n",
    "    values.sort()\n",
    "    return [values[i + 1] - values[i] for i in range(n)]"
   ]
  },
  {
   "cell_type": "code",
   "execution_count": 5,
   "metadata": {
    "pycharm": {
     "name": "#%%\n"
    }
   },
   "outputs": [],
   "source": [
    "SEED = 1234\n",
    "nb_name = 'calistirma_genetic'\n",
    "pop_list = []  # population individuals"
   ]
  },
  {
   "cell_type": "code",
   "execution_count": null,
   "metadata": {
    "pycharm": {
     "name": "#%%\n"
    }
   },
   "outputs": [
    {
     "name": "stdout",
     "output_type": "stream",
     "text": [
      "initializing population\n",
      "Executed genes [0.017318, 0.349, 1, 8, 'relu', 'mape', ['LSTM'], 'Ftrl']\n"
     ]
    },
    {
     "data": {
      "application/vnd.jupyter.widget-view+json": {
       "model_id": "1ba2a227b26e4eeebd5bfd6c11bb1284",
       "version_major": 2,
       "version_minor": 0
      },
      "text/plain": [
       "Executing:   0%|          | 0/7 [00:00<?, ?cell/s]"
      ]
     },
     "metadata": {},
     "output_type": "display_data"
    },
    {
     "name": "stdout",
     "output_type": "stream",
     "text": [
      "Executed genes [0.085843, 0.497, 4, 16, 'relu', 'mse', ['GRU'], 'Adam']\n"
     ]
    },
    {
     "data": {
      "application/vnd.jupyter.widget-view+json": {
       "model_id": "8675375a8b8b4c7e8ac385df266434de",
       "version_major": 2,
       "version_minor": 0
      },
      "text/plain": [
       "Executing:   0%|          | 0/7 [00:00<?, ?cell/s]"
      ]
     },
     "metadata": {},
     "output_type": "display_data"
    },
    {
     "name": "stdout",
     "output_type": "stream",
     "text": [
      "Executed genes [0.023294, 0.295, 2, 8, 'elu', 'mape', [['GRU', 'LSTM']], 'RMSprop']\n"
     ]
    },
    {
     "data": {
      "application/vnd.jupyter.widget-view+json": {
       "model_id": "3ab422f37ca24fad8ea763af90363c7e",
       "version_major": 2,
       "version_minor": 0
      },
      "text/plain": [
       "Executing:   0%|          | 0/7 [00:00<?, ?cell/s]"
      ]
     },
     "metadata": {},
     "output_type": "display_data"
    },
    {
     "name": "stdout",
     "output_type": "stream",
     "text": [
      "Executed genes [0.065482, 0.388, 4, 16, 'relu', 'mape', ['LSTM'], 'Adam']\n"
     ]
    },
    {
     "data": {
      "application/vnd.jupyter.widget-view+json": {
       "model_id": "f8fc279a346c407096fd060d88207dbd",
       "version_major": 2,
       "version_minor": 0
      },
      "text/plain": [
       "Executing:   0%|          | 0/7 [00:00<?, ?cell/s]"
      ]
     },
     "metadata": {},
     "output_type": "display_data"
    }
   ],
   "source": [
    "#############################################################\n",
    "# Initial Population\n",
    "os.makedirs(\"notebooks\", exist_ok=True)\n",
    "os.makedirs(\"results\", exist_ok=True)\n",
    "np.random.seed(SEED)\n",
    "\n",
    "first_pop = Population(size=ga_parameters['population_size'], generation=0)\n",
    "first_pop.init_pop()\n",
    "for ind in first_pop.chromosomes:\n",
    "    ind.generate_genes(SEED=SEED)\n",
    "    ind.calculate_fitness(notebook=nb_name, epoch=hyper_parameters['epoch'],\n",
    "                          batch_size=hyper_parameters['batch_size'])\n",
    "\n",
    "first_pop.sort_pop()\n",
    "#############################################################\n",
    "# First Fitness Evaluation\n",
    "first_pop.calculate_best_avg_worst()\n",
    "first_pop.print_pop()\n",
    "pop_list.append(first_pop)"
   ]
  },
  {
   "cell_type": "code",
   "execution_count": 15,
   "metadata": {
    "pycharm": {
     "name": "#%%\n"
    }
   },
   "outputs": [
    {
     "name": "stdout",
     "output_type": "stream",
     "text": [
      "==================== Generation: 1 started ====================\n",
      "crossover_points:  [3]\n",
      "mutation_points:  [5 0 3]\n",
      "==================== Crossover started. ====================\n",
      "random_number1:  0.2907285532552092\n",
      "Crossover is being performed.\n",
      "[0.076634 0.358 1 32 'relu' 'mae' list(['GRU']) 'Nadam'] [0.089102 0.266 2 32 'sigmoid' 'mae' list([['LSTM', 'GRU']]) 'RMSprop'] [3]\n",
      "Executed genes [0.076634, 0.358, 1, 32, 'sigmoid', 'mae', ['GRU'], 'RMSprop']\n"
     ]
    },
    {
     "data": {
      "application/vnd.jupyter.widget-view+json": {
       "model_id": "8dc69a7e95bf4a20a2c9edf52a3aad5e",
       "version_major": 2,
       "version_minor": 0
      },
      "text/plain": [
       "Executing:   0%|          | 0/7 [00:00<?, ?cell/s]"
      ]
     },
     "metadata": {},
     "output_type": "display_data"
    },
    {
     "name": "stdout",
     "output_type": "stream",
     "text": [
      "Executed genes [0.089102, 0.266, 2, 32, 'relu', 'mae', [['LSTM', 'GRU']], 'Nadam']\n"
     ]
    },
    {
     "data": {
      "application/vnd.jupyter.widget-view+json": {
       "model_id": "3591c7ea896c4415883e0dce953ccb5d",
       "version_major": 2,
       "version_minor": 0
      },
      "text/plain": [
       "Executing:   0%|          | 0/7 [00:00<?, ?cell/s]"
      ]
     },
     "metadata": {},
     "output_type": "display_data"
    },
    {
     "name": "stdout",
     "output_type": "stream",
     "text": [
      "random_number1:  0.246394443250343\n",
      "Crossover is being performed.\n",
      "[0.085843 0.497 4 16 'relu' 'mse' list(['GRU']) 'Adam'] [0.083488 0.257 4 32 'relu' 'mse' list(['LSTM']) 'Adamax'] [3]\n",
      "Executed genes [0.085843, 0.497, 4, 32, 'relu', 'mse', ['GRU'], 'Adamax']\n"
     ]
    },
    {
     "data": {
      "application/vnd.jupyter.widget-view+json": {
       "model_id": "6a2fbb2a59ca4d4b9748f6079e6c4fe8",
       "version_major": 2,
       "version_minor": 0
      },
      "text/plain": [
       "Executing:   0%|          | 0/7 [00:00<?, ?cell/s]"
      ]
     },
     "metadata": {},
     "output_type": "display_data"
    },
    {
     "name": "stdout",
     "output_type": "stream",
     "text": [
      "Executed genes [0.083488, 0.257, 4, 16, 'relu', 'mse', ['LSTM'], 'Adam']\n"
     ]
    },
    {
     "data": {
      "application/vnd.jupyter.widget-view+json": {
       "model_id": "44a3e1334bee438e81a7873ea46d2f7a",
       "version_major": 2,
       "version_minor": 0
      },
      "text/plain": [
       "Executing:   0%|          | 0/7 [00:00<?, ?cell/s]"
      ]
     },
     "metadata": {},
     "output_type": "display_data"
    },
    {
     "name": "stdout",
     "output_type": "stream",
     "text": [
      "random_number1:  0.7382867680147005\n",
      "Crossover was not performed.\n",
      "==================== Crossover over. ====================\n",
      "==================== Mutation started ====================\n",
      "[5 7 0] : mutation_idx mutation_idx type:  <class 'numpy.ndarray'>\n",
      "Mutation was not performed.\n",
      "Mutation was not performed.\n",
      "Mutation was not performed.\n",
      "==================== Mutation over. ====================\n",
      "Executed genes [0.071177, 0.286, 1, 32, 'softplus', 'mae', ['GRU'], 'RMSprop']\n"
     ]
    },
    {
     "data": {
      "application/vnd.jupyter.widget-view+json": {
       "model_id": "a166128bb1df4d2a8f4c8aee5a9d79df",
       "version_major": 2,
       "version_minor": 0
      },
      "text/plain": [
       "Executing:   0%|          | 0/7 [00:00<?, ?cell/s]"
      ]
     },
     "metadata": {},
     "output_type": "display_data"
    },
    {
     "name": "stdout",
     "output_type": "stream",
     "text": [
      "obj.genes:  [0.076634, 0.358, 1, 32, 'relu', 'mae', ['GRU'], 'Nadam'] Not found.\n",
      "obj.genes:  [0.076634, 0.358, 1, 32, 'relu', 'mae', ['GRU'], 'Nadam'] found\n",
      "obj.genes:  [0.071177, 0.286, 1, 32, 'softplus', 'mae', ['GRU'], 'RMSprop'] Not found.\n",
      "obj.genes:  [0.076634, 0.358, 1, 32, 'sigmoid', 'mae', ['GRU'], 'RMSprop'] Not found.\n",
      "obj.genes:  [0.085843, 0.497, 4, 32, 'relu', 'mse', ['GRU'], 'Adamax'] Not found.\n",
      "obj.genes:  [0.083488, 0.257, 4, 16, 'relu', 'mse', ['LSTM'], 'Adam'] Not found.\n",
      "obj.genes:  [0.023294, 0.295, 2, 8, 'elu', 'mape', [['GRU', 'LSTM']], 'RMSprop'] Not found.\n",
      "obj.genes:  [0.045603, 0.399, 2, 32, 'sigmoid', 'mae', [['GRU', 'SimpleRNN']], 'Ftrl'] Not found.\n",
      "obj.genes:  [0.045603, 0.399, 2, 32, 'sigmoid', 'mae', [['GRU', 'SimpleRNN']], 'Ftrl'] found\n",
      "Executed genes [0.003746, 0.319, 1, 16, 'tanh', 'mape', ['LSTM'], 'Ftrl']\n"
     ]
    },
    {
     "data": {
      "application/vnd.jupyter.widget-view+json": {
       "model_id": "353a63aaa2904682aeac2ac72bd8b58d",
       "version_major": 2,
       "version_minor": 0
      },
      "text/plain": [
       "Executing:   0%|          | 0/7 [00:00<?, ?cell/s]"
      ]
     },
     "metadata": {},
     "output_type": "display_data"
    },
    {
     "name": "stdout",
     "output_type": "stream",
     "text": [
      "Executed genes [0.039848, 0.464, 2, 8, 'sigmoid', 'mse', [['GRU', 'GRU']], 'Nadam']\n"
     ]
    },
    {
     "data": {
      "application/vnd.jupyter.widget-view+json": {
       "model_id": "0174e13c5e1d436ca10dc443587e45f6",
       "version_major": 2,
       "version_minor": 0
      },
      "text/plain": [
       "Executing:   0%|          | 0/7 [00:00<?, ?cell/s]"
      ]
     },
     "metadata": {},
     "output_type": "display_data"
    },
    {
     "name": "stdout",
     "output_type": "stream",
     "text": [
      "==================== Generation: 2 started ====================\n",
      "crossover_points:  [4]\n",
      "mutation_points:  [7 0 1]\n",
      "==================== Crossover started. ====================\n",
      "random_number1:  0.7919641352916398\n",
      "Crossover was not performed.\n",
      "random_number1:  0.2852509600245098\n",
      "Crossover is being performed.\n",
      "[0.071177 0.286 1 32 'softplus' 'mae' list(['GRU']) 'RMSprop'] [0.045603 0.399 2 32 'sigmoid' 'mae' list([['GRU', 'SimpleRNN']]) 'Ftrl'] [4]\n",
      "Executed genes [0.071177, 0.286, 1, 32, 'sigmoid', 'mae', ['GRU'], 'Ftrl']\n"
     ]
    },
    {
     "data": {
      "application/vnd.jupyter.widget-view+json": {
       "model_id": "7c325744ee8044728f82db6975177d8b",
       "version_major": 2,
       "version_minor": 0
      },
      "text/plain": [
       "Executing:   0%|          | 0/7 [00:00<?, ?cell/s]"
      ]
     },
     "metadata": {},
     "output_type": "display_data"
    },
    {
     "name": "stdout",
     "output_type": "stream",
     "text": [
      "Executed genes [0.045603, 0.399, 2, 32, 'softplus', 'mae', [['GRU', 'SimpleRNN']], 'RMSprop']\n"
     ]
    },
    {
     "data": {
      "application/vnd.jupyter.widget-view+json": {
       "model_id": "420bf7d9320148a3acb8ccd40758a4ea",
       "version_major": 2,
       "version_minor": 0
      },
      "text/plain": [
       "Executing:   0%|          | 0/7 [00:00<?, ?cell/s]"
      ]
     },
     "metadata": {},
     "output_type": "display_data"
    },
    {
     "name": "stdout",
     "output_type": "stream",
     "text": [
      "random_number1:  0.624916705305911\n",
      "Crossover was not performed.\n",
      "==================== Crossover over. ====================\n",
      "==================== Mutation started ====================\n",
      "[1 0 2] : mutation_idx mutation_idx type:  <class 'numpy.ndarray'>\n",
      "Mutation was not performed.\n",
      "Mutation was not performed.\n",
      "Mutation is being performed.\n",
      "Executed genes [0.079775, 0.368, 1, 32, 'softplus', 'mae', ['LSTM'], 'Adamax']\n"
     ]
    },
    {
     "data": {
      "application/vnd.jupyter.widget-view+json": {
       "model_id": "1056a747c9ca43e3b55d5d7f62e25a84",
       "version_major": 2,
       "version_minor": 0
      },
      "text/plain": [
       "Executing:   0%|          | 0/7 [00:00<?, ?cell/s]"
      ]
     },
     "metadata": {},
     "output_type": "display_data"
    },
    {
     "name": "stdout",
     "output_type": "stream",
     "text": [
      "==================== Mutation over. ====================\n",
      "Executed genes [0.0425, 0.143, 1, 16, 'softmax', 'mape', ['LSTM'], 'Nadam']\n"
     ]
    },
    {
     "data": {
      "application/vnd.jupyter.widget-view+json": {
       "model_id": "9794d290b02946afb1324604c977cebc",
       "version_major": 2,
       "version_minor": 0
      },
      "text/plain": [
       "Executing:   0%|          | 0/7 [00:00<?, ?cell/s]"
      ]
     },
     "metadata": {},
     "output_type": "display_data"
    },
    {
     "name": "stdout",
     "output_type": "stream",
     "text": [
      "obj.genes:  [0.076634, 0.358, 1, 32, 'relu', 'mae', ['GRU'], 'Nadam'] Not found.\n",
      "obj.genes:  [0.076634, 0.358, 1, 32, 'relu', 'mae', ['GRU'], 'Nadam'] found\n",
      "obj.genes:  [0.089102, 0.266, 2, 32, 'relu', 'mae', [['LSTM', 'GRU']], 'Nadam'] Not found.\n",
      "obj.genes:  [0.085843, 0.497, 4, 32, 'relu', 'mse', ['GRU'], 'Adamax'] Not found.\n",
      "obj.genes:  [0.045603, 0.399, 2, 32, 'softplus', 'mae', [['GRU', 'SimpleRNN']], 'RMSprop'] Not found.\n",
      "obj.genes:  [0.083488, 0.257, 4, 16, 'relu', 'mse', ['LSTM'], 'Adam'] Not found.\n",
      "obj.genes:  [0.079775, 0.368, 1, 32, 'softplus', 'mae', ['LSTM'], 'Adamax'] Not found.\n",
      "obj.genes:  [0.023294, 0.295, 2, 8, 'elu', 'mape', [['GRU', 'LSTM']], 'RMSprop'] Not found.\n",
      "obj.genes:  [0.071177, 0.286, 1, 32, 'sigmoid', 'mae', ['GRU'], 'Ftrl'] Not found.\n",
      "Executed genes [0.048273, 0.102, 2, 16, 'softplus', 'mae', [['GRU', 'GRU']], 'Adadelta']\n"
     ]
    },
    {
     "data": {
      "application/vnd.jupyter.widget-view+json": {
       "model_id": "92b8c605f54d4059ae82de45897ad232",
       "version_major": 2,
       "version_minor": 0
      },
      "text/plain": [
       "Executing:   0%|          | 0/7 [00:00<?, ?cell/s]"
      ]
     },
     "metadata": {},
     "output_type": "display_data"
    },
    {
     "name": "stdout",
     "output_type": "stream",
     "text": [
      "==================== Generation: 3 started ====================\n",
      "crossover_points:  [2]\n",
      "mutation_points:  [3 5 2]\n",
      "==================== Crossover started. ====================\n",
      "random_number1:  0.8192020670641583\n",
      "Crossover was not performed.\n",
      "random_number1:  0.05711563808885989\n",
      "Crossover is being performed.\n",
      "[0.076634 0.358 1 32 'relu' 'mae' list(['GRU']) 'Nadam'] [0.045603 0.399 2 32 'softplus' 'mae' list([['GRU', 'SimpleRNN']])\n",
      " 'RMSprop'] [2]\n",
      "Executed genes [0.076634, 0.358, 2, 32, 'softplus', 'mae', [['GRU', 'SimpleRNN']], 'RMSprop']\n"
     ]
    },
    {
     "data": {
      "application/vnd.jupyter.widget-view+json": {
       "model_id": "bfea9316458549c8b04a62f561877e18",
       "version_major": 2,
       "version_minor": 0
      },
      "text/plain": [
       "Executing:   0%|          | 0/7 [00:00<?, ?cell/s]"
      ]
     },
     "metadata": {},
     "output_type": "display_data"
    },
    {
     "name": "stdout",
     "output_type": "stream",
     "text": [
      "Executed genes [0.045603, 0.399, 1, 32, 'relu', 'mae', ['GRU'], 'Nadam']\n"
     ]
    },
    {
     "data": {
      "application/vnd.jupyter.widget-view+json": {
       "model_id": "f906edb835664af28116dd3fa7aa9425",
       "version_major": 2,
       "version_minor": 0
      },
      "text/plain": [
       "Executing:   0%|          | 0/7 [00:00<?, ?cell/s]"
      ]
     },
     "metadata": {},
     "output_type": "display_data"
    },
    {
     "name": "stdout",
     "output_type": "stream",
     "text": [
      "random_number1:  0.6694217430745488\n",
      "Crossover was not performed.\n",
      "==================== Crossover over. ====================\n",
      "==================== Mutation started ====================\n",
      "[3 4 1] : mutation_idx mutation_idx type:  <class 'numpy.ndarray'>\n",
      "Mutation was not performed.\n",
      "Mutation is being performed.\n",
      "Executed genes [0.045603, 0.399, 1, 16, 'softplus', 'mape', ['SimpleRNN'], 'RMSprop']\n"
     ]
    },
    {
     "data": {
      "application/vnd.jupyter.widget-view+json": {
       "model_id": "db2bb9c3b7ce48b584d182b4e1ab8b95",
       "version_major": 2,
       "version_minor": 0
      },
      "text/plain": [
       "Executing:   0%|          | 0/7 [00:00<?, ?cell/s]"
      ]
     },
     "metadata": {},
     "output_type": "display_data"
    },
    {
     "name": "stdout",
     "output_type": "stream",
     "text": [
      "Mutation is being performed.\n",
      "Executed genes [0.076634, 0.358, 2, 16, 'relu', 'mae', [['LSTM', 'GRU']], 'Nadam']\n"
     ]
    },
    {
     "data": {
      "application/vnd.jupyter.widget-view+json": {
       "model_id": "430a6fca60b646d3908f539a3edf81a7",
       "version_major": 2,
       "version_minor": 0
      },
      "text/plain": [
       "Executing:   0%|          | 0/7 [00:00<?, ?cell/s]"
      ]
     },
     "metadata": {},
     "output_type": "display_data"
    },
    {
     "name": "stdout",
     "output_type": "stream",
     "text": [
      "==================== Mutation over. ====================\n",
      "Executed genes [0.084379, 0.345, 4, 16, 'sigmoid', 'mae', ['SimpleRNN'], 'Adam']\n"
     ]
    },
    {
     "data": {
      "application/vnd.jupyter.widget-view+json": {
       "model_id": "04eb93321a6d47f981ebd0537c33296d",
       "version_major": 2,
       "version_minor": 0
      },
      "text/plain": [
       "Executing:   0%|          | 0/7 [00:00<?, ?cell/s]"
      ]
     },
     "metadata": {},
     "output_type": "display_data"
    },
    {
     "name": "stdout",
     "output_type": "stream",
     "text": [
      "obj.genes:  [0.076634, 0.358, 1, 32, 'relu', 'mae', ['GRU'], 'Nadam'] Not found.\n",
      "obj.genes:  [0.076634, 0.358, 1, 32, 'relu', 'mae', ['GRU'], 'Nadam'] found\n",
      "obj.genes:  [0.089102, 0.266, 2, 32, 'relu', 'mae', [['LSTM', 'GRU']], 'Nadam'] Not found.\n",
      "obj.genes:  [0.085843, 0.497, 4, 32, 'relu', 'mse', ['GRU'], 'Adamax'] Not found.\n",
      "obj.genes:  [0.085843, 0.497, 4, 32, 'relu', 'mse', ['GRU'], 'Adamax'] found\n",
      "obj.genes:  [0.076634, 0.358, 2, 16, 'relu', 'mae', [['LSTM', 'GRU']], 'Nadam'] Not found.\n",
      "obj.genes:  [0.079775, 0.368, 1, 32, 'softplus', 'mae', ['LSTM'], 'Adamax'] Not found.\n",
      "obj.genes:  [0.045603, 0.399, 1, 16, 'softplus', 'mape', ['SimpleRNN'], 'RMSprop'] Not found.\n",
      "Executed genes [0.063617, 0.391, 1, 8, 'relu', 'mse', ['LSTM'], 'Adamax']\n"
     ]
    },
    {
     "data": {
      "application/vnd.jupyter.widget-view+json": {
       "model_id": "14e99f1390b5404fb1a687ad01c07203",
       "version_major": 2,
       "version_minor": 0
      },
      "text/plain": [
       "Executing:   0%|          | 0/7 [00:00<?, ?cell/s]"
      ]
     },
     "metadata": {},
     "output_type": "display_data"
    },
    {
     "name": "stdout",
     "output_type": "stream",
     "text": [
      "Executed genes [0.01371, 0.234, 2, 8, 'elu', 'mape', [['SimpleRNN', 'LSTM']], 'Adam']\n"
     ]
    },
    {
     "data": {
      "application/vnd.jupyter.widget-view+json": {
       "model_id": "e6ab672cfee349e5a62e285d589b7516",
       "version_major": 2,
       "version_minor": 0
      },
      "text/plain": [
       "Executing:   0%|          | 0/7 [00:00<?, ?cell/s]"
      ]
     },
     "metadata": {},
     "output_type": "display_data"
    },
    {
     "name": "stdout",
     "output_type": "stream",
     "text": [
      "==================== Generation: 4 started ====================\n",
      "crossover_points:  [5]\n",
      "mutation_points:  [1 0 2]\n",
      "==================== Crossover started. ====================\n",
      "random_number1:  0.14243537334181722\n",
      "Crossover is being performed.\n",
      "[0.076634 0.358 1 32 'relu' 'mae' list(['GRU']) 'Nadam'] [0.089102 0.266 2 32 'relu' 'mae' list([['LSTM', 'GRU']]) 'Nadam'] [5]\n",
      "Executed genes [0.076634, 0.358, 1, 32, 'relu', 'mae', ['GRU'], 'Nadam']\n"
     ]
    },
    {
     "data": {
      "application/vnd.jupyter.widget-view+json": {
       "model_id": "408139b5d6c144b9891359c2ab1dcb0e",
       "version_major": 2,
       "version_minor": 0
      },
      "text/plain": [
       "Executing:   0%|          | 0/7 [00:00<?, ?cell/s]"
      ]
     },
     "metadata": {},
     "output_type": "display_data"
    },
    {
     "name": "stdout",
     "output_type": "stream",
     "text": [
      "Executed genes [0.089102, 0.266, 2, 32, 'relu', 'mae', [['LSTM', 'GRU']], 'Nadam']\n"
     ]
    },
    {
     "data": {
      "application/vnd.jupyter.widget-view+json": {
       "model_id": "07f1a595789342e2b5ed1ac61ff865b0",
       "version_major": 2,
       "version_minor": 0
      },
      "text/plain": [
       "Executing:   0%|          | 0/7 [00:00<?, ?cell/s]"
      ]
     },
     "metadata": {},
     "output_type": "display_data"
    },
    {
     "name": "stdout",
     "output_type": "stream",
     "text": [
      "random_number1:  0.5524689394975455\n",
      "Crossover is being performed.\n",
      "[0.076634 0.358 2 16 'relu' 'mae' list([['LSTM', 'GRU']]) 'Nadam'] [0.045603 0.399 1 32 'relu' 'mae' list(['GRU']) 'Nadam'] [5]\n",
      "Executed genes [0.076634, 0.358, 2, 16, 'relu', 'mae', [['LSTM', 'GRU']], 'Nadam']\n"
     ]
    },
    {
     "data": {
      "application/vnd.jupyter.widget-view+json": {
       "model_id": "e677f9fded86455cab72b10719841bcb",
       "version_major": 2,
       "version_minor": 0
      },
      "text/plain": [
       "Executing:   0%|          | 0/7 [00:00<?, ?cell/s]"
      ]
     },
     "metadata": {},
     "output_type": "display_data"
    },
    {
     "name": "stdout",
     "output_type": "stream",
     "text": [
      "Executed genes [0.045603, 0.399, 1, 32, 'relu', 'mae', ['GRU'], 'Nadam']\n"
     ]
    },
    {
     "data": {
      "application/vnd.jupyter.widget-view+json": {
       "model_id": "d494ad857a684851a43c256363d9605d",
       "version_major": 2,
       "version_minor": 0
      },
      "text/plain": [
       "Executing:   0%|          | 0/7 [00:00<?, ?cell/s]"
      ]
     },
     "metadata": {},
     "output_type": "display_data"
    },
    {
     "name": "stdout",
     "output_type": "stream",
     "text": [
      "random_number1:  0.2730432596836856\n",
      "Crossover is being performed.\n",
      "[0.079775 0.368 1 32 'softplus' 'mae' list(['LSTM']) 'Adamax'] [0.076634 0.358 2 32 'softplus' 'mae' list([['GRU', 'SimpleRNN']])\n",
      " 'RMSprop'] [5]\n",
      "Executed genes [0.079775, 0.368, 1, 32, 'softplus', 'mae', ['LSTM'], 'RMSprop']\n"
     ]
    },
    {
     "data": {
      "application/vnd.jupyter.widget-view+json": {
       "model_id": "edce9bd0e5214182a421816ccc8a5a05",
       "version_major": 2,
       "version_minor": 0
      },
      "text/plain": [
       "Executing:   0%|          | 0/7 [00:00<?, ?cell/s]"
      ]
     },
     "metadata": {},
     "output_type": "display_data"
    },
    {
     "name": "stdout",
     "output_type": "stream",
     "text": [
      "Executed genes [0.076634, 0.358, 2, 32, 'softplus', 'mae', [['GRU', 'SimpleRNN']], 'Adamax']\n"
     ]
    },
    {
     "data": {
      "application/vnd.jupyter.widget-view+json": {
       "model_id": "bfd0b447dad44644944c34683072ffac",
       "version_major": 2,
       "version_minor": 0
      },
      "text/plain": [
       "Executing:   0%|          | 0/7 [00:00<?, ?cell/s]"
      ]
     },
     "metadata": {},
     "output_type": "display_data"
    },
    {
     "name": "stdout",
     "output_type": "stream",
     "text": [
      "==================== Crossover over. ====================\n",
      "==================== Mutation started ====================\n",
      "[7 3 0] : mutation_idx mutation_idx type:  <class 'numpy.ndarray'>\n",
      "Mutation is being performed.\n",
      "Executed genes [0.070445, 0.41, 1, 32, 'softplus', 'mae', ['LSTM'], 'Adamax']\n"
     ]
    },
    {
     "data": {
      "application/vnd.jupyter.widget-view+json": {
       "model_id": "133f7cf9eac445b386204d974818e783",
       "version_major": 2,
       "version_minor": 0
      },
      "text/plain": [
       "Executing:   0%|          | 0/7 [00:00<?, ?cell/s]"
      ]
     },
     "metadata": {},
     "output_type": "display_data"
    },
    {
     "name": "stdout",
     "output_type": "stream",
     "text": [
      "Mutation was not performed.\n",
      "Mutation was not performed.\n",
      "==================== Mutation over. ====================\n",
      "Executed genes [0.051196, 0.181, 1, 8, 'selu', 'mae', ['LSTM'], 'Ftrl']\n"
     ]
    },
    {
     "data": {
      "application/vnd.jupyter.widget-view+json": {
       "model_id": "4718d83d71854904b297ca7c5cb21382",
       "version_major": 2,
       "version_minor": 0
      },
      "text/plain": [
       "Executing:   0%|          | 0/7 [00:00<?, ?cell/s]"
      ]
     },
     "metadata": {},
     "output_type": "display_data"
    },
    {
     "name": "stdout",
     "output_type": "stream",
     "text": [
      "obj.genes:  [0.076634, 0.358, 1, 32, 'relu', 'mae', ['GRU'], 'Nadam'] Not found.\n",
      "obj.genes:  [0.076634, 0.358, 1, 32, 'relu', 'mae', ['GRU'], 'Nadam'] found\n",
      "obj.genes:  [0.045603, 0.399, 1, 32, 'relu', 'mae', ['GRU'], 'Nadam'] Not found.\n",
      "obj.genes:  [0.089102, 0.266, 2, 32, 'relu', 'mae', [['LSTM', 'GRU']], 'Nadam'] Not found.\n",
      "obj.genes:  [0.079775, 0.368, 1, 32, 'softplus', 'mae', ['LSTM'], 'RMSprop'] Not found.\n",
      "obj.genes:  [0.085843, 0.497, 4, 32, 'relu', 'mse', ['GRU'], 'Adamax'] Not found.\n",
      "obj.genes:  [0.076634, 0.358, 2, 16, 'relu', 'mae', [['LSTM', 'GRU']], 'Nadam'] Not found.\n",
      "obj.genes:  [0.070445, 0.41, 1, 32, 'softplus', 'mae', ['LSTM'], 'Adamax'] Not found.\n",
      "obj.genes:  [0.076634, 0.358, 2, 32, 'softplus', 'mae', [['GRU', 'SimpleRNN']], 'Adamax'] Not found.\n",
      "Executed genes [0.004163, 0.351, 1, 8, 'relu', 'mse', ['SimpleRNN'], 'RMSprop']\n"
     ]
    },
    {
     "data": {
      "application/vnd.jupyter.widget-view+json": {
       "model_id": "4b11be0ac08d425395cc67c93a0f3ebd",
       "version_major": 2,
       "version_minor": 0
      },
      "text/plain": [
       "Executing:   0%|          | 0/7 [00:00<?, ?cell/s]"
      ]
     },
     "metadata": {},
     "output_type": "display_data"
    },
    {
     "name": "stdout",
     "output_type": "stream",
     "text": [
      "==================== Generation: 5 started ====================\n",
      "crossover_points:  [6]\n",
      "mutation_points:  [2 4 7]\n",
      "==================== Crossover started. ====================\n",
      "random_number1:  0.5501114157083612\n",
      "Crossover is being performed.\n",
      "[0.076634 0.358 1 32 'relu' 'mae' list(['GRU']) 'Nadam'] [0.076634 0.358 1 32 'relu' 'mae' list(['GRU']) 'Nadam'] [6]\n",
      "Executed genes [0.076634, 0.358, 1, 32, 'relu', 'mae', ['GRU'], 'Nadam']\n"
     ]
    },
    {
     "data": {
      "application/vnd.jupyter.widget-view+json": {
       "model_id": "b84639e0ea9847a1b5e7465d3d50eb8b",
       "version_major": 2,
       "version_minor": 0
      },
      "text/plain": [
       "Executing:   0%|          | 0/7 [00:00<?, ?cell/s]"
      ]
     },
     "metadata": {},
     "output_type": "display_data"
    },
    {
     "name": "stdout",
     "output_type": "stream",
     "text": [
      "Executed genes [0.076634, 0.358, 1, 32, 'relu', 'mae', ['GRU'], 'Nadam']\n"
     ]
    },
    {
     "data": {
      "application/vnd.jupyter.widget-view+json": {
       "model_id": "50c3e388640141a18786ad63b065fb51",
       "version_major": 2,
       "version_minor": 0
      },
      "text/plain": [
       "Executing:   0%|          | 0/7 [00:00<?, ?cell/s]"
      ]
     },
     "metadata": {},
     "output_type": "display_data"
    },
    {
     "name": "stdout",
     "output_type": "stream",
     "text": [
      "random_number1:  0.33244958319307705\n",
      "Crossover is being performed.\n",
      "[0.045603 0.399 1 32 'relu' 'mae' list(['GRU']) 'Nadam'] [0.089102 0.266 2 32 'relu' 'mae' list([['LSTM', 'GRU']]) 'Nadam'] [6]\n",
      "Executed genes [0.045603, 0.399, 1, 32, 'relu', 'mae', ['GRU'], 'Nadam']\n"
     ]
    },
    {
     "data": {
      "application/vnd.jupyter.widget-view+json": {
       "model_id": "ebafb60e32544d70ae9c10f6d1584834",
       "version_major": 2,
       "version_minor": 0
      },
      "text/plain": [
       "Executing:   0%|          | 0/7 [00:00<?, ?cell/s]"
      ]
     },
     "metadata": {},
     "output_type": "display_data"
    },
    {
     "name": "stdout",
     "output_type": "stream",
     "text": [
      "Executed genes [0.089102, 0.266, 2, 32, 'relu', 'mae', [['LSTM', 'GRU']], 'Nadam']\n"
     ]
    },
    {
     "data": {
      "application/vnd.jupyter.widget-view+json": {
       "model_id": "0c777d9cee5d4ddd9587540fc42f1827",
       "version_major": 2,
       "version_minor": 0
      },
      "text/plain": [
       "Executing:   0%|          | 0/7 [00:05<?, ?cell/s]"
      ]
     },
     "metadata": {},
     "output_type": "display_data"
    },
    {
     "name": "stdout",
     "output_type": "stream",
     "text": [
      "random_number1:  0.643185596731056\n",
      "Crossover was not performed.\n",
      "==================== Crossover over. ====================\n",
      "==================== Mutation started ====================\n",
      "[6 0 5] : mutation_idx mutation_idx type:  <class 'numpy.ndarray'>\n",
      "Mutation was not performed.\n",
      "Mutation was not performed.\n",
      "Mutation was not performed.\n",
      "==================== Mutation over. ====================\n",
      "Executed genes [0.053546, 0.248, 4, 8, 'relu', 'mae', ['SimpleRNN'], 'RMSprop']\n"
     ]
    },
    {
     "data": {
      "application/vnd.jupyter.widget-view+json": {
       "model_id": "d9e9052b8a8948b9ba11feb2a4e5a8b4",
       "version_major": 2,
       "version_minor": 0
      },
      "text/plain": [
       "Executing:   0%|          | 0/7 [00:00<?, ?cell/s]"
      ]
     },
     "metadata": {},
     "output_type": "display_data"
    },
    {
     "name": "stdout",
     "output_type": "stream",
     "text": [
      "obj.genes:  [0.076634, 0.358, 1, 32, 'relu', 'mae', ['GRU'], 'Nadam'] Not found.\n",
      "obj.genes:  [0.076634, 0.358, 1, 32, 'relu', 'mae', ['GRU'], 'Nadam'] found\n",
      "obj.genes:  [0.076634, 0.358, 1, 32, 'relu', 'mae', ['GRU'], 'Nadam'] found\n",
      "obj.genes:  [0.089102, 0.266, 2, 32, 'relu', 'mae', [['LSTM', 'GRU']], 'Nadam'] Not found.\n",
      "obj.genes:  [0.079775, 0.368, 1, 32, 'softplus', 'mae', ['LSTM'], 'RMSprop'] Not found.\n",
      "obj.genes:  [0.004163, 0.351, 1, 8, 'relu', 'mse', ['SimpleRNN'], 'RMSprop'] Not found.\n",
      "obj.genes:  [0.085843, 0.497, 4, 32, 'relu', 'mse', ['GRU'], 'Adamax'] Not found.\n",
      "obj.genes:  [0.085843, 0.497, 4, 32, 'relu', 'mse', ['GRU'], 'Adamax'] found\n",
      "Executed genes [0.003277, 0.478, 4, 32, 'relu', 'mse', ['SimpleRNN'], 'SGD']\n"
     ]
    },
    {
     "data": {
      "application/vnd.jupyter.widget-view+json": {
       "model_id": "79332695e7384ca2909c7c4813b08cce",
       "version_major": 2,
       "version_minor": 0
      },
      "text/plain": [
       "Executing:   0%|          | 0/7 [00:00<?, ?cell/s]"
      ]
     },
     "metadata": {},
     "output_type": "display_data"
    },
    {
     "name": "stdout",
     "output_type": "stream",
     "text": [
      "Executed genes [0.039609, 0.213, 2, 32, 'softsign', 'mse', [['SimpleRNN', 'GRU']], 'Adam']\n"
     ]
    },
    {
     "data": {
      "application/vnd.jupyter.widget-view+json": {
       "model_id": "fe4e322bdc81439d96b1b8e51a46b478",
       "version_major": 2,
       "version_minor": 0
      },
      "text/plain": [
       "Executing:   0%|          | 0/7 [00:00<?, ?cell/s]"
      ]
     },
     "metadata": {},
     "output_type": "display_data"
    },
    {
     "name": "stdout",
     "output_type": "stream",
     "text": [
      "Executed genes [0.056765, 0.248, 1, 8, 'relu', 'mape', ['GRU'], 'Ftrl']\n"
     ]
    },
    {
     "data": {
      "application/vnd.jupyter.widget-view+json": {
       "model_id": "c5904cc8809a4e668e7325c6c9774c13",
       "version_major": 2,
       "version_minor": 0
      },
      "text/plain": [
       "Executing:   0%|          | 0/7 [00:00<?, ?cell/s]"
      ]
     },
     "metadata": {},
     "output_type": "display_data"
    },
    {
     "name": "stdout",
     "output_type": "stream",
     "text": [
      "==================== Generation: 6 started ====================\n",
      "crossover_points:  [6]\n",
      "mutation_points:  [3 5 0]\n",
      "==================== Crossover started. ====================\n",
      "random_number1:  0.29692728344953345\n",
      "Crossover is being performed.\n",
      "[0.076634 0.358 1 32 'relu' 'mae' list(['GRU']) 'Nadam'] [0.079775 0.368 1 32 'softplus' 'mae' list(['LSTM']) 'RMSprop'] [6]\n",
      "Executed genes [0.076634, 0.358, 1, 32, 'relu', 'mae', ['GRU'], 'RMSprop']\n"
     ]
    },
    {
     "data": {
      "application/vnd.jupyter.widget-view+json": {
       "model_id": "7d0d259724b24e0080a460bbdea89e2e",
       "version_major": 2,
       "version_minor": 0
      },
      "text/plain": [
       "Executing:   0%|          | 0/7 [00:00<?, ?cell/s]"
      ]
     },
     "metadata": {},
     "output_type": "display_data"
    },
    {
     "name": "stdout",
     "output_type": "stream",
     "text": [
      "Executed genes [0.079775, 0.368, 1, 32, 'softplus', 'mae', ['LSTM'], 'Nadam']\n"
     ]
    },
    {
     "data": {
      "application/vnd.jupyter.widget-view+json": {
       "model_id": "b59c195b9394457a860642f01059d83d",
       "version_major": 2,
       "version_minor": 0
      },
      "text/plain": [
       "Executing:   0%|          | 0/7 [00:00<?, ?cell/s]"
      ]
     },
     "metadata": {},
     "output_type": "display_data"
    },
    {
     "name": "stdout",
     "output_type": "stream",
     "text": [
      "random_number1:  0.37194431249415016\n",
      "Crossover is being performed.\n",
      "[0.039609 0.213 2 32 'softsign' 'mse' list([['SimpleRNN', 'GRU']]) 'Adam'] [0.085843 0.497 4 32 'relu' 'mse' list(['GRU']) 'Adamax'] [6]\n",
      "Executed genes [0.039609, 0.213, 2, 32, 'softsign', 'mse', [['SimpleRNN', 'GRU']], 'Adamax']\n"
     ]
    },
    {
     "data": {
      "application/vnd.jupyter.widget-view+json": {
       "model_id": "c1d3de8f949f4af3a0dc1cb80e3a6d48",
       "version_major": 2,
       "version_minor": 0
      },
      "text/plain": [
       "Executing:   0%|          | 0/7 [00:00<?, ?cell/s]"
      ]
     },
     "metadata": {},
     "output_type": "display_data"
    },
    {
     "name": "stdout",
     "output_type": "stream",
     "text": [
      "Executed genes [0.085843, 0.497, 4, 32, 'relu', 'mse', ['GRU'], 'Adam']\n"
     ]
    },
    {
     "data": {
      "application/vnd.jupyter.widget-view+json": {
       "model_id": "c290efbe67b74209bdee121816429cfe",
       "version_major": 2,
       "version_minor": 0
      },
      "text/plain": [
       "Executing:   0%|          | 0/7 [00:00<?, ?cell/s]"
      ]
     },
     "metadata": {},
     "output_type": "display_data"
    },
    {
     "name": "stdout",
     "output_type": "stream",
     "text": [
      "random_number1:  0.8276993588036342\n",
      "Crossover was not performed.\n",
      "==================== Crossover over. ====================\n",
      "==================== Mutation started ====================\n",
      "[5 1 0] : mutation_idx mutation_idx type:  <class 'numpy.ndarray'>\n",
      "Mutation is being performed.\n",
      "Executed genes [0.053882, 0.368, 1, 8, 'softplus', 'mape', ['SimpleRNN'], 'RMSprop']\n"
     ]
    },
    {
     "data": {
      "application/vnd.jupyter.widget-view+json": {
       "model_id": "2676954fcdef465a82ece62d2ed6989d",
       "version_major": 2,
       "version_minor": 0
      },
      "text/plain": [
       "Executing:   0%|          | 0/7 [00:00<?, ?cell/s]"
      ]
     },
     "metadata": {},
     "output_type": "display_data"
    },
    {
     "name": "stdout",
     "output_type": "stream",
     "text": [
      "Mutation was not performed.\n",
      "Mutation was not performed.\n",
      "==================== Mutation over. ====================\n",
      "Executed genes [0.019825, 0.137, 4, 8, 'softplus', 'mse', ['SimpleRNN'], 'SGD']\n"
     ]
    },
    {
     "data": {
      "application/vnd.jupyter.widget-view+json": {
       "model_id": "dc9dc5bc349d4f29b32a2f52373ce294",
       "version_major": 2,
       "version_minor": 0
      },
      "text/plain": [
       "Executing:   0%|          | 0/7 [00:00<?, ?cell/s]"
      ]
     },
     "metadata": {},
     "output_type": "display_data"
    },
    {
     "name": "stdout",
     "output_type": "stream",
     "text": [
      "obj.genes:  [0.039609, 0.213, 2, 32, 'softsign', 'mse', [['SimpleRNN', 'GRU']], 'Adam'] Not found.\n",
      "obj.genes:  [0.039609, 0.213, 2, 32, 'softsign', 'mse', [['SimpleRNN', 'GRU']], 'Adam'] found\n",
      "obj.genes:  [0.039609, 0.213, 2, 32, 'softsign', 'mse', [['SimpleRNN', 'GRU']], 'Adamax'] Not found.\n",
      "obj.genes:  [0.076634, 0.358, 1, 32, 'relu', 'mae', ['GRU'], 'Nadam'] Not found.\n",
      "obj.genes:  [0.076634, 0.358, 1, 32, 'relu', 'mae', ['GRU'], 'Nadam'] found\n",
      "obj.genes:  [0.085843, 0.497, 4, 32, 'relu', 'mse', ['GRU'], 'Adam'] Not found.\n",
      "obj.genes:  [0.079775, 0.368, 1, 32, 'softplus', 'mae', ['LSTM'], 'Nadam'] Not found.\n",
      "obj.genes:  [0.019825, 0.137, 4, 8, 'softplus', 'mse', ['SimpleRNN'], 'SGD'] Not found.\n",
      "Executed genes [0.0899, 0.309, 1, 32, 'sigmoid', 'mae', ['SimpleRNN'], 'Adamax']\n"
     ]
    },
    {
     "data": {
      "application/vnd.jupyter.widget-view+json": {
       "model_id": "2cf09d533bcb46e08a82cd54a5c055c8",
       "version_major": 2,
       "version_minor": 0
      },
      "text/plain": [
       "Executing:   0%|          | 0/7 [00:00<?, ?cell/s]"
      ]
     },
     "metadata": {},
     "output_type": "display_data"
    },
    {
     "name": "stdout",
     "output_type": "stream",
     "text": [
      "Executed genes [0.071787, 0.345, 4, 16, 'softmax', 'mae', ['GRU'], 'RMSprop']\n"
     ]
    },
    {
     "data": {
      "application/vnd.jupyter.widget-view+json": {
       "model_id": "27b2c8d9f4ca432fa2aa2a520b23066a",
       "version_major": 2,
       "version_minor": 0
      },
      "text/plain": [
       "Executing:   0%|          | 0/7 [00:00<?, ?cell/s]"
      ]
     },
     "metadata": {},
     "output_type": "display_data"
    },
    {
     "name": "stdout",
     "output_type": "stream",
     "text": [
      "==================== Generation: 7 started ====================\n",
      "crossover_points:  [1]\n",
      "mutation_points:  [3 4 0]\n",
      "==================== Crossover started. ====================\n",
      "random_number1:  0.48875867539263407\n",
      "Crossover is being performed.\n",
      "[0.076634 0.358 1 32 'relu' 'mae' list(['GRU']) 'RMSprop'] [0.076634 0.358 1 32 'relu' 'mae' list(['GRU']) 'Nadam'] [1]\n",
      "Executed genes [0.076634, 0.358, 1, 32, 'relu', 'mae', ['GRU'], 'Nadam']\n"
     ]
    },
    {
     "data": {
      "application/vnd.jupyter.widget-view+json": {
       "model_id": "00ad4f4cf69d46ed96b96ab6deeb69e6",
       "version_major": 2,
       "version_minor": 0
      },
      "text/plain": [
       "Executing:   0%|          | 0/7 [00:00<?, ?cell/s]"
      ]
     },
     "metadata": {},
     "output_type": "display_data"
    },
    {
     "name": "stdout",
     "output_type": "stream",
     "text": [
      "Executed genes [0.076634, 0.358, 1, 32, 'relu', 'mae', ['GRU'], 'RMSprop']\n"
     ]
    },
    {
     "data": {
      "application/vnd.jupyter.widget-view+json": {
       "model_id": "4e7831f10b804d908acabfb5c0ce4177",
       "version_major": 2,
       "version_minor": 0
      },
      "text/plain": [
       "Executing:   0%|          | 0/7 [00:00<?, ?cell/s]"
      ]
     },
     "metadata": {},
     "output_type": "display_data"
    },
    {
     "name": "stdout",
     "output_type": "stream",
     "text": [
      "random_number1:  0.700904977939865\n",
      "Crossover was not performed.\n",
      "random_number1:  0.42004452702524175\n",
      "Crossover is being performed.\n",
      "[0.039609 0.213 2 32 'softsign' 'mse' list([['SimpleRNN', 'GRU']])\n",
      " 'Adamax'] [0.039609 0.213 2 32 'softsign' 'mse' list([['SimpleRNN', 'GRU']]) 'Adam'] [1]\n",
      "Executed genes [0.039609, 0.213, 2, 32, 'softsign', 'mse', [['SimpleRNN', 'GRU']], 'Adam']\n"
     ]
    },
    {
     "data": {
      "application/vnd.jupyter.widget-view+json": {
       "model_id": "d8ac2c5a4f40444c8513086fa369a29d",
       "version_major": 2,
       "version_minor": 0
      },
      "text/plain": [
       "Executing:   0%|          | 0/7 [00:00<?, ?cell/s]"
      ]
     },
     "metadata": {},
     "output_type": "display_data"
    },
    {
     "name": "stdout",
     "output_type": "stream",
     "text": [
      "Executed genes [0.039609, 0.213, 2, 32, 'softsign', 'mse', [['SimpleRNN', 'GRU']], 'Adamax']\n"
     ]
    },
    {
     "data": {
      "application/vnd.jupyter.widget-view+json": {
       "model_id": "f2f3479b942b4d5b9f32ba1fc60842d4",
       "version_major": 2,
       "version_minor": 0
      },
      "text/plain": [
       "Executing:   0%|          | 0/7 [00:00<?, ?cell/s]"
      ]
     },
     "metadata": {},
     "output_type": "display_data"
    },
    {
     "name": "stdout",
     "output_type": "stream",
     "text": [
      "==================== Crossover over. ====================\n",
      "==================== Mutation started ====================\n",
      "[0 4 2] : mutation_idx mutation_idx type:  <class 'numpy.ndarray'>\n",
      "Mutation was not performed.\n",
      "Mutation was not performed.\n",
      "Mutation is being performed.\n",
      "Executed genes [0.001289, 0.213, 2, 32, 'selu', 'mse', [['GRU', 'GRU']], 'Adamax']\n"
     ]
    },
    {
     "data": {
      "application/vnd.jupyter.widget-view+json": {
       "model_id": "04539c6569404069b0899b15fd6bb997",
       "version_major": 2,
       "version_minor": 0
      },
      "text/plain": [
       "Executing:   0%|          | 0/7 [00:00<?, ?cell/s]"
      ]
     },
     "metadata": {},
     "output_type": "display_data"
    },
    {
     "name": "stdout",
     "output_type": "stream",
     "text": [
      "==================== Mutation over. ====================\n",
      "Executed genes [0.081333, 0.211, 1, 32, 'tanh', 'mae', ['LSTM'], 'Adagrad']\n"
     ]
    },
    {
     "data": {
      "application/vnd.jupyter.widget-view+json": {
       "model_id": "42bd8ff19522497fb2ecc1092e5d4877",
       "version_major": 2,
       "version_minor": 0
      },
      "text/plain": [
       "Executing:   0%|          | 0/7 [00:00<?, ?cell/s]"
      ]
     },
     "metadata": {},
     "output_type": "display_data"
    },
    {
     "name": "stdout",
     "output_type": "stream",
     "text": [
      "obj.genes:  [0.039609, 0.213, 2, 32, 'softsign', 'mse', [['SimpleRNN', 'GRU']], 'Adam'] Not found.\n",
      "obj.genes:  [0.039609, 0.213, 2, 32, 'softsign', 'mse', [['SimpleRNN', 'GRU']], 'Adam'] found\n",
      "obj.genes:  [0.076634, 0.358, 1, 32, 'relu', 'mae', ['GRU'], 'RMSprop'] Not found.\n",
      "obj.genes:  [0.039609, 0.213, 2, 32, 'softsign', 'mse', [['SimpleRNN', 'GRU']], 'Adamax'] Not found.\n",
      "obj.genes:  [0.076634, 0.358, 1, 32, 'relu', 'mae', ['GRU'], 'Nadam'] Not found.\n",
      "obj.genes:  [0.045603, 0.399, 1, 32, 'relu', 'mae', ['GRU'], 'Nadam'] Not found.\n",
      "obj.genes:  [0.001289, 0.213, 2, 32, 'selu', 'mse', [['GRU', 'GRU']], 'Adamax'] Not found.\n",
      "obj.genes:  [0.085843, 0.497, 4, 32, 'relu', 'mse', ['GRU'], 'Adam'] Not found.\n",
      "obj.genes:  [0.079775, 0.368, 1, 32, 'softplus', 'mae', ['LSTM'], 'Nadam'] Not found.\n",
      "Executed genes [0.088534, 0.356, 4, 32, 'softsign', 'mse', ['SimpleRNN'], 'Adagrad']\n"
     ]
    },
    {
     "data": {
      "application/vnd.jupyter.widget-view+json": {
       "model_id": "fb8c689e169c49c48954db927d9a9ca0",
       "version_major": 2,
       "version_minor": 0
      },
      "text/plain": [
       "Executing:   0%|          | 0/7 [00:00<?, ?cell/s]"
      ]
     },
     "metadata": {},
     "output_type": "display_data"
    },
    {
     "name": "stdout",
     "output_type": "stream",
     "text": [
      "==================== Generation: 8 started ====================\n",
      "crossover_points:  [1]\n",
      "mutation_points:  [1 2 0]\n",
      "==================== Crossover started. ====================\n",
      "random_number1:  0.16155801350883592\n",
      "Crossover is being performed.\n",
      "[0.076634 0.358 1 32 'relu' 'mae' list(['GRU']) 'RMSprop'] [0.039609 0.213 2 32 'softsign' 'mse' list([['SimpleRNN', 'GRU']])\n",
      " 'Adamax'] [1]\n",
      "Executed genes [0.076634, 0.213, 2, 32, 'softsign', 'mse', [['SimpleRNN', 'GRU']], 'Adamax']\n"
     ]
    },
    {
     "data": {
      "application/vnd.jupyter.widget-view+json": {
       "model_id": "29f489ab63614193b5bd8cd1d0f08bc5",
       "version_major": 2,
       "version_minor": 0
      },
      "text/plain": [
       "Executing:   0%|          | 0/7 [00:00<?, ?cell/s]"
      ]
     },
     "metadata": {},
     "output_type": "display_data"
    },
    {
     "name": "stdout",
     "output_type": "stream",
     "text": [
      "Executed genes [0.039609, 0.358, 1, 32, 'relu', 'mae', ['GRU'], 'RMSprop']\n"
     ]
    },
    {
     "data": {
      "application/vnd.jupyter.widget-view+json": {
       "model_id": "5e44056746aa485489a279a9a9dcf33c",
       "version_major": 2,
       "version_minor": 0
      },
      "text/plain": [
       "Executing:   0%|          | 0/7 [00:00<?, ?cell/s]"
      ]
     },
     "metadata": {},
     "output_type": "display_data"
    },
    {
     "name": "stdout",
     "output_type": "stream",
     "text": [
      "random_number1:  0.28363708226213924\n",
      "Crossover is being performed.\n",
      "[0.088534 0.356 4 32 'softsign' 'mse' list(['SimpleRNN']) 'Adagrad'] [0.039609 0.213 2 32 'softsign' 'mse' list([['SimpleRNN', 'GRU']]) 'Adam'] [1]\n",
      "Executed genes [0.088534, 0.213, 2, 32, 'softsign', 'mse', [['SimpleRNN', 'GRU']], 'Adam']\n"
     ]
    },
    {
     "data": {
      "application/vnd.jupyter.widget-view+json": {
       "model_id": "256747cfa197460193227fad91f31da9",
       "version_major": 2,
       "version_minor": 0
      },
      "text/plain": [
       "Executing:   0%|          | 0/7 [00:00<?, ?cell/s]"
      ]
     },
     "metadata": {},
     "output_type": "display_data"
    },
    {
     "name": "stdout",
     "output_type": "stream",
     "text": [
      "Executed genes [0.039609, 0.356, 4, 32, 'softsign', 'mse', ['SimpleRNN'], 'Adagrad']\n"
     ]
    },
    {
     "data": {
      "application/vnd.jupyter.widget-view+json": {
       "model_id": "d7889e4456bf4822a73badcb715f4aa6",
       "version_major": 2,
       "version_minor": 0
      },
      "text/plain": [
       "Executing:   0%|          | 0/7 [00:00<?, ?cell/s]"
      ]
     },
     "metadata": {},
     "output_type": "display_data"
    },
    {
     "name": "stdout",
     "output_type": "stream",
     "text": [
      "random_number1:  0.536706025564066\n",
      "Crossover is being performed.\n",
      "[0.039609 0.213 2 32 'softsign' 'mse' list([['SimpleRNN', 'GRU']]) 'Adam'] [0.076634 0.358 1 32 'relu' 'mae' list(['GRU']) 'Nadam'] [1]\n",
      "Executed genes [0.039609, 0.358, 1, 32, 'relu', 'mae', ['GRU'], 'Nadam']\n"
     ]
    },
    {
     "data": {
      "application/vnd.jupyter.widget-view+json": {
       "model_id": "9c7ca550db3c42b485f70c56b0ebaab5",
       "version_major": 2,
       "version_minor": 0
      },
      "text/plain": [
       "Executing:   0%|          | 0/7 [00:03<?, ?cell/s]"
      ]
     },
     "metadata": {},
     "output_type": "display_data"
    },
    {
     "name": "stdout",
     "output_type": "stream",
     "text": [
      "Executed genes [0.076634, 0.213, 2, 32, 'softsign', 'mse', [['SimpleRNN', 'GRU']], 'Adam']\n"
     ]
    },
    {
     "data": {
      "application/vnd.jupyter.widget-view+json": {
       "model_id": "358ec4b0a4f24fc09a2cdc375838997d",
       "version_major": 2,
       "version_minor": 0
      },
      "text/plain": [
       "Executing:   0%|          | 0/7 [00:00<?, ?cell/s]"
      ]
     },
     "metadata": {},
     "output_type": "display_data"
    },
    {
     "name": "stdout",
     "output_type": "stream",
     "text": [
      "==================== Crossover over. ====================\n",
      "==================== Mutation started ====================\n",
      "[4 5 2] : mutation_idx mutation_idx type:  <class 'numpy.ndarray'>\n",
      "Mutation was not performed.\n",
      "Mutation was not performed.\n",
      "Mutation was not performed.\n",
      "==================== Mutation over. ====================\n",
      "Executed genes [0.048392, 0.456, 1, 16, 'softplus', 'mape', ['LSTM'], 'SGD']\n"
     ]
    },
    {
     "data": {
      "application/vnd.jupyter.widget-view+json": {
       "model_id": "75e499bb49a24a4280d989b354d16888",
       "version_major": 2,
       "version_minor": 0
      },
      "text/plain": [
       "Executing:   0%|          | 0/7 [00:00<?, ?cell/s]"
      ]
     },
     "metadata": {},
     "output_type": "display_data"
    },
    {
     "name": "stdout",
     "output_type": "stream",
     "text": [
      "obj.genes:  [0.088534, 0.213, 2, 32, 'softsign', 'mse', [['SimpleRNN', 'GRU']], 'Adam'] Not found.\n",
      "obj.genes:  [0.076634, 0.213, 2, 32, 'softsign', 'mse', [['SimpleRNN', 'GRU']], 'Adam'] Not found.\n",
      "obj.genes:  [0.039609, 0.213, 2, 32, 'softsign', 'mse', [['SimpleRNN', 'GRU']], 'Adam'] Not found.\n",
      "obj.genes:  [0.039609, 0.358, 1, 32, 'relu', 'mae', ['GRU'], 'RMSprop'] Not found.\n",
      "obj.genes:  [0.076634, 0.358, 1, 32, 'relu', 'mae', ['GRU'], 'RMSprop'] Not found.\n",
      "obj.genes:  [0.076634, 0.213, 2, 32, 'softsign', 'mse', [['SimpleRNN', 'GRU']], 'Adamax'] Not found.\n",
      "obj.genes:  [0.039609, 0.358, 1, 32, 'relu', 'mae', ['GRU'], 'Nadam'] Not found.\n",
      "obj.genes:  [0.076634, 0.358, 1, 32, 'relu', 'mae', ['GRU'], 'Nadam'] Not found.\n",
      "obj.genes:  [0.045603, 0.399, 1, 32, 'relu', 'mae', ['GRU'], 'Nadam'] Not found.\n",
      "obj.genes:  [0.039609, 0.356, 4, 32, 'softsign', 'mse', ['SimpleRNN'], 'Adagrad'] Not found.\n",
      "==================== Generation: 9 started ====================\n",
      "crossover_points:  [5]\n",
      "mutation_points:  [3 2 7]\n",
      "==================== Crossover started. ====================\n",
      "random_number1:  0.8853872441552366\n",
      "Crossover was not performed.\n",
      "random_number1:  0.7792855915819448\n",
      "Crossover was not performed.\n",
      "random_number1:  0.03180806303617245\n",
      "Crossover is being performed.\n",
      "[0.039609 0.356 4 32 'softsign' 'mse' list(['SimpleRNN']) 'Adagrad'] [0.076634 0.358 1 32 'relu' 'mae' list(['GRU']) 'Nadam'] [5]\n",
      "Executed genes [0.039609, 0.356, 4, 32, 'softsign', 'mae', ['SimpleRNN'], 'Nadam']\n"
     ]
    },
    {
     "data": {
      "application/vnd.jupyter.widget-view+json": {
       "model_id": "956a7690477f4f29907c16967f582b43",
       "version_major": 2,
       "version_minor": 0
      },
      "text/plain": [
       "Executing:   0%|          | 0/7 [00:00<?, ?cell/s]"
      ]
     },
     "metadata": {},
     "output_type": "display_data"
    },
    {
     "name": "stdout",
     "output_type": "stream",
     "text": [
      "Executed genes [0.076634, 0.358, 1, 32, 'relu', 'mse', ['GRU'], 'Adagrad']\n"
     ]
    },
    {
     "data": {
      "application/vnd.jupyter.widget-view+json": {
       "model_id": "0fd55024f6c64812bef1fd15989f8f37",
       "version_major": 2,
       "version_minor": 0
      },
      "text/plain": [
       "Executing:   0%|          | 0/7 [00:00<?, ?cell/s]"
      ]
     },
     "metadata": {},
     "output_type": "display_data"
    },
    {
     "name": "stdout",
     "output_type": "stream",
     "text": [
      "==================== Crossover over. ====================\n",
      "==================== Mutation started ====================\n",
      "[6 2 0] : mutation_idx mutation_idx type:  <class 'numpy.ndarray'>\n",
      "Mutation was not performed.\n",
      "Mutation is being performed.\n",
      "Executed genes [0.039609, 0.213, 4, 16, 'softsign', 'mse', ['LSTM'], 'Adadelta']\n"
     ]
    },
    {
     "data": {
      "application/vnd.jupyter.widget-view+json": {
       "model_id": "85d1370514024f6980ab1da47ad326fd",
       "version_major": 2,
       "version_minor": 0
      },
      "text/plain": [
       "Executing:   0%|          | 0/7 [00:00<?, ?cell/s]"
      ]
     },
     "metadata": {},
     "output_type": "display_data"
    },
    {
     "name": "stdout",
     "output_type": "stream",
     "text": [
      "Mutation was not performed.\n",
      "==================== Mutation over. ====================\n",
      "Executed genes [0.04824, 0.278, 4, 32, 'relu', 'mape', ['SimpleRNN'], 'Adagrad']\n"
     ]
    },
    {
     "data": {
      "application/vnd.jupyter.widget-view+json": {
       "model_id": "5e248c1fe84d477b98154cd986a4f0f5",
       "version_major": 2,
       "version_minor": 0
      },
      "text/plain": [
       "Executing:   0%|          | 0/7 [00:00<?, ?cell/s]"
      ]
     },
     "metadata": {},
     "output_type": "display_data"
    },
    {
     "name": "stdout",
     "output_type": "stream",
     "text": [
      "obj.genes:  [0.088534, 0.213, 2, 32, 'softsign', 'mse', [['SimpleRNN', 'GRU']], 'Adam'] Not found.\n",
      "obj.genes:  [0.076634, 0.213, 2, 32, 'softsign', 'mse', [['SimpleRNN', 'GRU']], 'Adam'] Not found.\n",
      "obj.genes:  [0.039609, 0.213, 2, 32, 'softsign', 'mse', [['SimpleRNN', 'GRU']], 'Adam'] Not found.\n",
      "obj.genes:  [0.088534, 0.213, 2, 32, 'softsign', 'mse', [['SimpleRNN', 'GRU']], 'Adam'] found\n",
      "obj.genes:  [0.076634, 0.213, 2, 32, 'softsign', 'mse', [['SimpleRNN', 'GRU']], 'Adamax'] Not found.\n",
      "obj.genes:  [0.039609, 0.358, 1, 32, 'relu', 'mae', ['GRU'], 'Nadam'] Not found.\n",
      "obj.genes:  [0.039609, 0.356, 4, 32, 'softsign', 'mae', ['SimpleRNN'], 'Nadam'] Not found.\n",
      "obj.genes:  [0.076634, 0.358, 1, 32, 'relu', 'mse', ['GRU'], 'Adagrad'] Not found.\n",
      "obj.genes:  [0.04824, 0.278, 4, 32, 'relu', 'mape', ['SimpleRNN'], 'Adagrad'] Not found.\n",
      "Executed genes [0.016703, 0.349, 4, 16, 'softplus', 'mae', ['LSTM'], 'Adadelta']\n"
     ]
    },
    {
     "data": {
      "application/vnd.jupyter.widget-view+json": {
       "model_id": "93f7c15b72f243a890caf3da87f81fab",
       "version_major": 2,
       "version_minor": 0
      },
      "text/plain": [
       "Executing:   0%|          | 0/7 [00:00<?, ?cell/s]"
      ]
     },
     "metadata": {},
     "output_type": "display_data"
    },
    {
     "name": "stdout",
     "output_type": "stream",
     "text": [
      "==================== Generation: 10 started ====================\n",
      "crossover_points:  [4]\n",
      "mutation_points:  [0 4 2]\n",
      "==================== Crossover started. ====================\n",
      "random_number1:  0.487355879841193\n",
      "Crossover is being performed.\n",
      "[0.088534 0.213 2 32 'softsign' 'mse' list([['SimpleRNN', 'GRU']]) 'Adam'] [0.088534 0.213 2 32 'softsign' 'mse' list([['SimpleRNN', 'GRU']]) 'Adam'] [4]\n",
      "Executed genes [0.088534, 0.213, 2, 32, 'softsign', 'mse', [['SimpleRNN', 'GRU']], 'Adam']\n"
     ]
    },
    {
     "data": {
      "application/vnd.jupyter.widget-view+json": {
       "model_id": "8728054944f744a29848d778651f6a28",
       "version_major": 2,
       "version_minor": 0
      },
      "text/plain": [
       "Executing:   0%|          | 0/7 [00:00<?, ?cell/s]"
      ]
     },
     "metadata": {},
     "output_type": "display_data"
    },
    {
     "name": "stdout",
     "output_type": "stream",
     "text": [
      "Executed genes [0.088534, 0.213, 2, 32, 'softsign', 'mse', [['SimpleRNN', 'GRU']], 'Adam']\n"
     ]
    },
    {
     "data": {
      "application/vnd.jupyter.widget-view+json": {
       "model_id": "c0d605af1f8c406cb33c619ca7361e91",
       "version_major": 2,
       "version_minor": 0
      },
      "text/plain": [
       "Executing:   0%|          | 0/7 [00:00<?, ?cell/s]"
      ]
     },
     "metadata": {},
     "output_type": "display_data"
    },
    {
     "name": "stdout",
     "output_type": "stream",
     "text": [
      "random_number1:  0.2667406959229204\n",
      "Crossover is being performed.\n",
      "[0.076634 0.213 2 32 'softsign' 'mse' list([['SimpleRNN', 'GRU']]) 'Adam'] [0.039609 0.358 1 32 'relu' 'mae' list(['GRU']) 'Nadam'] [4]\n",
      "Executed genes [0.076634, 0.213, 2, 32, 'relu', 'mae', [['SimpleRNN', 'GRU']], 'Nadam']\n"
     ]
    },
    {
     "data": {
      "application/vnd.jupyter.widget-view+json": {
       "model_id": "a01610dd380c4712a9a4a539d9fc3ddd",
       "version_major": 2,
       "version_minor": 0
      },
      "text/plain": [
       "Executing:   0%|          | 0/7 [00:00<?, ?cell/s]"
      ]
     },
     "metadata": {},
     "output_type": "display_data"
    },
    {
     "name": "stdout",
     "output_type": "stream",
     "text": [
      "Executed genes [0.039609, 0.358, 1, 32, 'softsign', 'mse', ['GRU'], 'Adam']\n"
     ]
    },
    {
     "data": {
      "application/vnd.jupyter.widget-view+json": {
       "model_id": "c2f70ecafe8c4cf19b32f9f39c5487f2",
       "version_major": 2,
       "version_minor": 0
      },
      "text/plain": [
       "Executing:   0%|          | 0/7 [00:00<?, ?cell/s]"
      ]
     },
     "metadata": {},
     "output_type": "display_data"
    },
    {
     "name": "stdout",
     "output_type": "stream",
     "text": [
      "random_number1:  0.6050111014397169\n",
      "Crossover was not performed.\n",
      "==================== Crossover over. ====================\n",
      "==================== Mutation started ====================\n",
      "[3 0 2] : mutation_idx mutation_idx type:  <class 'numpy.ndarray'>\n",
      "Mutation is being performed.\n",
      "Executed genes [0.064256, 0.213, 1, 32, 'elu', 'mse', ['LSTM'], 'Adam']\n"
     ]
    },
    {
     "data": {
      "application/vnd.jupyter.widget-view+json": {
       "model_id": "e976db3c31404e7fa5fb7d7e92c6f38a",
       "version_major": 2,
       "version_minor": 0
      },
      "text/plain": [
       "Executing:   0%|          | 0/7 [00:00<?, ?cell/s]"
      ]
     },
     "metadata": {},
     "output_type": "display_data"
    },
    {
     "name": "stdout",
     "output_type": "stream",
     "text": [
      "Mutation was not performed.\n",
      "Mutation is being performed.\n",
      "Executed genes [0.001197, 0.213, 2, 32, 'sigmoid', 'mse', [['LSTM', 'GRU']], 'Adam']\n"
     ]
    },
    {
     "data": {
      "application/vnd.jupyter.widget-view+json": {
       "model_id": "cf8d9994447d4a92af25f1ea1b7e4028",
       "version_major": 2,
       "version_minor": 0
      },
      "text/plain": [
       "Executing:   0%|          | 0/7 [00:00<?, ?cell/s]"
      ]
     },
     "metadata": {},
     "output_type": "display_data"
    },
    {
     "name": "stdout",
     "output_type": "stream",
     "text": [
      "==================== Mutation over. ====================\n",
      "Executed genes [0.043658, 0.324, 2, 32, 'relu', 'mape', [['SimpleRNN', 'GRU']], 'Adam']\n"
     ]
    },
    {
     "data": {
      "application/vnd.jupyter.widget-view+json": {
       "model_id": "9d93ccae39334674812be9d5e6836f99",
       "version_major": 2,
       "version_minor": 0
      },
      "text/plain": [
       "Executing:   0%|          | 0/7 [00:00<?, ?cell/s]"
      ]
     },
     "metadata": {},
     "output_type": "display_data"
    },
    {
     "name": "stdout",
     "output_type": "stream",
     "text": [
      "obj.genes:  [0.039609, 0.358, 1, 32, 'softsign', 'mse', ['GRU'], 'Adam'] Not found.\n",
      "obj.genes:  [0.088534, 0.213, 2, 32, 'softsign', 'mse', [['SimpleRNN', 'GRU']], 'Adam'] Not found.\n",
      "obj.genes:  [0.088534, 0.213, 2, 32, 'softsign', 'mse', [['SimpleRNN', 'GRU']], 'Adam'] found\n",
      "obj.genes:  [0.088534, 0.213, 2, 32, 'softsign', 'mse', [['SimpleRNN', 'GRU']], 'Adam'] found\n",
      "obj.genes:  [0.064256, 0.213, 1, 32, 'elu', 'mse', ['LSTM'], 'Adam'] Not found.\n",
      "obj.genes:  [0.076634, 0.213, 2, 32, 'softsign', 'mse', [['SimpleRNN', 'GRU']], 'Adamax'] Not found.\n",
      "obj.genes:  [0.076634, 0.213, 2, 32, 'relu', 'mae', [['SimpleRNN', 'GRU']], 'Nadam'] Not found.\n",
      "obj.genes:  [0.001197, 0.213, 2, 32, 'sigmoid', 'mse', [['LSTM', 'GRU']], 'Adam'] Not found.\n",
      "Executed genes [0.065196, 0.107, 4, 16, 'selu', 'mae', ['SimpleRNN'], 'Adagrad']\n"
     ]
    },
    {
     "data": {
      "application/vnd.jupyter.widget-view+json": {
       "model_id": "2c2fca980c164a99a3a894b174d632b2",
       "version_major": 2,
       "version_minor": 0
      },
      "text/plain": [
       "Executing:   0%|          | 0/7 [00:00<?, ?cell/s]"
      ]
     },
     "metadata": {},
     "output_type": "display_data"
    },
    {
     "name": "stdout",
     "output_type": "stream",
     "text": [
      "Executed genes [0.030576, 0.148, 2, 16, 'tanh', 'mse', [['SimpleRNN', 'SimpleRNN']], 'Ftrl']\n"
     ]
    },
    {
     "data": {
      "application/vnd.jupyter.widget-view+json": {
       "model_id": "4342071e492d433797b05bed8f8a5180",
       "version_major": 2,
       "version_minor": 0
      },
      "text/plain": [
       "Executing:   0%|          | 0/7 [00:00<?, ?cell/s]"
      ]
     },
     "metadata": {},
     "output_type": "display_data"
    },
    {
     "name": "stdout",
     "output_type": "stream",
     "text": [
      "Finished..\n"
     ]
    }
   ],
   "source": [
    "np.random.seed(SEED)\n",
    "start_ga = time.time()\n",
    "pop_list = pop_list[:1]\n",
    "## Start iterations\n",
    "for i in range(ga_parameters['max_num_iteration']):\n",
    "    print(\"=\" * 20, \"Generation: {} started\".format(i + 1), \"=\" * 20)\n",
    "    crossover_points = np.random.choice(a=np.arange(1, len(hyper_parameters) - 1),\n",
    "                                        size=ga_parameters['crossover_point_size'], replace=False, p=None)\n",
    "    print(\"crossover_points: \", crossover_points)\n",
    "    # 6. Let the gene not undergo mutation\n",
    "    mutation_points = np.random.choice([x for x in range(len(hyper_parameters)) if x != 6], size=ga_parameters['mutation_point_size'], replace=False, p=None)\n",
    "\n",
    "    print(\"mutation_points: \", mutation_points)\n",
    "\n",
    "    prev_pop = pop_list[i]\n",
    "    new_pop = Population(size=ga_parameters['population_size'], generation=i + 1)\n",
    "    new_pop.chromosomes = []\n",
    "    chromosomes = prev_pop.chromosomes.copy()\n",
    "    chr_list = np.array([chr.genes for chr in chromosomes], dtype=object)  # genes of chromosomes\n",
    "    print(\"=\" * 20, \"Crossover started.\", \"=\" * 20)\n",
    "    crossover_idx = np.random.choice(range(ga_parameters['population_size']), replace=False,size=min(ga_parameters['crossover_chromosome_size'],ga_parameters['population_size']), p=ga_parameters['prob_chr'])\n",
    "    crossover_pop = chr_list[crossover_idx, :]\n",
    "    l = len(crossover_idx)\n",
    "    crossover_pairs = np.array([x for x in zip(crossover_idx[:l // 2], crossover_idx[l // 2:])])\n",
    "    for p1, p2 in crossover_pairs:\n",
    "        parent1 = chr_list[p1, :]\n",
    "        parent2 = chr_list[p2, :]\n",
    "        random_number1 = np.random.random()\n",
    "        print(\"random_number1: \", random_number1)\n",
    "        if random_number1 <= ga_parameters['crossover_rate']:\n",
    "            print(\"Crossover is being performed.\")\n",
    "            print(parent1, parent2, crossover_points)\n",
    "            c1, c2 = crossover(parent1, parent2, crossover_points[0])\n",
    "            child1 = Chromosome(chr_id=100 + i)\n",
    "            child1.generation_number = i + 1\n",
    "            child1.change_genes(c1)\n",
    "            child2 = Chromosome(chr_id=200 + i)\n",
    "            child2.generation_number = i + 1\n",
    "            child2.change_genes(c2)\n",
    "            child1.calculate_fitness(notebook=nb_name, epoch=hyper_parameters['epoch'],batch_size=hyper_parameters['batch_size'])\n",
    "            child2.calculate_fitness(notebook=nb_name, epoch=hyper_parameters['epoch'],batch_size=hyper_parameters['batch_size'])\n",
    "            new_pop.chromosomes.append(child1)\n",
    "            new_pop.chromosomes.append(child2)\n",
    "        else:\n",
    "            print(\"Crossover was not performed.\")\n",
    "            parent1 = chromosomes[p1]\n",
    "            parent1.generation_number = i + 1\n",
    "            parent2 = chromosomes[p2]\n",
    "            parent1.generation_number = i + 1\n",
    "            new_pop.chromosomes.append(parent1)\n",
    "            new_pop.chromosomes.append(parent2)\n",
    "\n",
    "    print(\"=\" * 20, \"Crossover over.\", \"=\" * 20)\n",
    "\n",
    "    print(\"=\" * 20, \"Mutation started\", \"=\" * 20)\n",
    "    mutation_idx = np.random.choice(range(ga_parameters['population_size']), replace=False, size=min(ga_parameters['mutation_chromosome_size'], ga_parameters['population_size']), p=ga_parameters['prob_chr'])\n",
    "    print(mutation_idx, \": mutation_idx\", \"mutation_idx type: \", type(mutation_idx))\n",
    "    mutation_pop = [chromosomes[a] for a in mutation_idx]\n",
    "    for mutation in mutation_pop:\n",
    "        random_number2 = np.random.random()\n",
    "        mutated_child = mutation.genes[:]\n",
    "        if random_number2 <= ga_parameters['mutation_rate']:\n",
    "            print(\"Mutation is being performed.\")\n",
    "            for point in mutation_points:\n",
    "                if point == 0:  # learning rate\n",
    "                    mutated_child[0] = np.around(np.random.uniform(learning_rate_ranges[0],learning_rate_ranges[1]), 6)\n",
    "                elif point == 1:  # dropout rate\n",
    "                    mutated_child[1] = np.around(np.random.uniform(dropout_rate_ranges[0],dropout_rate_ranges[1]), 3)\n",
    "                elif point == 2:  # layer size\n",
    "                    mutated_child[2] = np.random.choice(hyper_parameters['layer_size'])\n",
    "                elif point == 3:  # unit size\n",
    "                    mutated_child[3] = np.random.choice(hyper_parameters['unit_size'])\n",
    "                elif point == 4:  # activation\n",
    "                    mutated_child[4] = np.random.choice(hyper_parameters['activations'])\n",
    "                elif point == 5:  # loss function\n",
    "                    mutated_child[5] = np.random.choice(hyper_parameters['loss_functions'])\n",
    "                elif point == 7:\n",
    "                    mutated_child[7] = np.random.choice(hyper_parameters['optimizers'])\n",
    "\n",
    "            if (mutated_child[2] == 1) or (mutated_child[2] == 4):\n",
    "                mutated_child[6] = []\n",
    "                mutated_child[6].append(np.random.choice(hyper_parameters['models']))\n",
    "            elif mutated_child[2] == 2:\n",
    "                mutated_child[6] = []\n",
    "                mutated_child[6].append(np.random.choice(hyper_parameters['models'], size=2).tolist())\n",
    "\n",
    "            mutated_chr = Chromosome(chr_id=300 + i)\n",
    "            mutated_chr.generation_number = i + 1\n",
    "            mutated_chr.change_genes(mutated_child)\n",
    "            mutated_chr.calculate_fitness(notebook=nb_name, epoch=hyper_parameters['epoch'],batch_size=hyper_parameters['batch_size'])\n",
    "            new_pop.chromosomes.append(mutated_chr)\n",
    "        else:\n",
    "            print(\"Mutation was not performed.\")\n",
    "            mutation.generation_number = i + 1\n",
    "            new_pop.chromosomes.append(mutation)\n",
    "\n",
    "    print(\"=\" * 20, \"Mutation over.\", \"=\" * 20)\n",
    "    random_chromosome = Chromosome(chr_id=300 + i)\n",
    "    random_chromosome.generation_number = i + 1\n",
    "    random_genes = []\n",
    "    random_genes.append(np.around(\n",
    "        np.random.uniform(learning_rate_ranges[0], learning_rate_ranges[1]),\n",
    "        6))  # learning rate\n",
    "    random_genes.append(np.around(\n",
    "        np.random.uniform(dropout_rate_ranges[0], dropout_rate_ranges[1]),\n",
    "        3))  # dropout rate\n",
    "    random_genes.append(np.random.choice(hyper_parameters['layer_size']))  # layer size\n",
    "    random_genes.append(np.random.choice(hyper_parameters['unit_size']))  # unit size\n",
    "    random_genes.append(np.random.choice(hyper_parameters['activations']))  # activation function\n",
    "    random_genes.append(np.random.choice(hyper_parameters['loss_functions']))  # loss function\n",
    "    random_genes.append(list())\n",
    "    if random_genes[2] == 1:\n",
    "        random_genes[6].append(np.random.choice(hyper_parameters['models']))\n",
    "    elif random_genes[2] == 2:\n",
    "        random_genes[6].append(np.random.choice(hyper_parameters['models'], size=2).tolist())\n",
    "    elif random_genes[2] == 4:\n",
    "        random_genes[6].append(np.random.choice(hyper_parameters['models']))\n",
    "    random_genes.append(np.random.choice(hyper_parameters['optimizers']))  # optimizer\n",
    "\n",
    "    random_chromosome.change_genes(random_genes)\n",
    "    random_chromosome.calculate_fitness(notebook=nb_name, epoch=hyper_parameters['epoch'],batch_size=hyper_parameters['batch_size'])\n",
    "    new_pop.chromosomes.append(random_chromosome)\n",
    "\n",
    "    best_selection = chromosomes[0]\n",
    "    best_selection.generation_number = i + 1\n",
    "    new_pop.chromosomes.append(best_selection)  # Best chromosome.\n",
    "    new_pop.sort_pop()\n",
    "    new_pop.chromosomes = new_pop.chromosomes[:ga_parameters['population_size']]\n",
    "    #### Creating random individuals in place of individuals with the same genes.\n",
    "    seen_chrs = []\n",
    "    new_chromosome_list = []\n",
    "    for idx, obj in enumerate(new_pop.chromosomes):\n",
    "        if obj.genes not in seen_chrs:\n",
    "            print(\"obj.genes: \", obj.genes, \"Not found.\")\n",
    "            seen_chrs.append(obj.genes)\n",
    "        else:\n",
    "            print(\"obj.genes: \", obj.genes, \"found\")\n",
    "            new_pop.chromosomes.pop(idx)\n",
    "\n",
    "    while len(new_pop.chromosomes) < ga_parameters['population_size']:\n",
    "        chr5 = Chromosome(chr_id=400 + i)\n",
    "\n",
    "        random_genes2 = []\n",
    "        random_genes2.append(np.around(\n",
    "            np.random.uniform(learning_rate_ranges[0], learning_rate_ranges[1]),\n",
    "            6))  # learning rate\n",
    "        random_genes2.append(np.around(\n",
    "            np.random.uniform(dropout_rate_ranges[0], dropout_rate_ranges[1]),\n",
    "            3))  # dropout rate\n",
    "        random_genes2.append(np.random.choice(hyper_parameters['layer_size']))  # layer size\n",
    "        random_genes2.append(np.random.choice(hyper_parameters['unit_size']))  # unit size\n",
    "        random_genes2.append(np.random.choice(hyper_parameters['activations']))  # activation function\n",
    "        random_genes2.append(np.random.choice(hyper_parameters['loss_functions']))  # loss function\n",
    "        random_genes2.append(list())\n",
    "        if random_genes2[2] == 1:\n",
    "            random_genes2[6].append(np.random.choice(hyper_parameters['models']))\n",
    "        elif random_genes2[2] == 2:\n",
    "            random_genes2[6].append(np.random.choice(hyper_parameters['models'], size=2).tolist())\n",
    "        elif random_genes2[2] == 4:\n",
    "            random_genes2[6].append(np.random.choice(hyper_parameters['models']))\n",
    "        random_genes2.append(np.random.choice(hyper_parameters['optimizers']))  # optimizer\n",
    "\n",
    "        chr5.change_genes(random_genes2)\n",
    "        chr5.calculate_fitness(notebook=nb_name, epoch=hyper_parameters['epoch'],batch_size=hyper_parameters['batch_size'])\n",
    "        new_pop.chromosomes.append(chr5)\n",
    "\n",
    "    new_pop.sort_pop()\n",
    "    new_pop.calculate_best_avg_worst()\n",
    "    new_pop.print_pop()\n",
    "    pop_list.append(new_pop)\n",
    "\n",
    "end_ga = time.time()\n",
    "ga_cpu_text_file = codecs.open(\"results\\\\ga-CPU-\" + \".txt\", \"a+\")\n",
    "ga_cpu_text_file.write(str(end_ga - start_ga))\n",
    "ga_cpu_text_file.write(\"\\n\")\n",
    "ga_cpu_text_file.close()\n",
    "print(\"Finished..\")"
   ]
  },
  {
   "cell_type": "code",
   "execution_count": null,
   "metadata": {
    "pycharm": {
     "name": "#%%\n"
    }
   },
   "outputs": [],
   "source": []
  },
  {
   "cell_type": "markdown",
   "metadata": {
    "pycharm": {
     "name": "#%%\n"
    }
   },
   "source": [
    "## Exporting the population\n",
    "\n",
    "import csv\n",
    "\n",
    "with open('pop_list.csv', 'w', newline='') as f:\n",
    "    writer = csv.writer(f)\n",
    "    writer.writerow(['generation', 'Individual', 'chromosome_ID', 'genes', 'fitness', 'test_EXP_VAR_SCORE', 'test_MAE', 'test_MAPE', 'test_MAX_ERROR', 'test_MSE', 'test_R2', 'test_RMSE', 'train_EXP_VAR_SCORE', 'train_MAE', 'train_MAPE', 'train_MAX_ERROR', 'train_MSE', 'train_R2', 'train_RMSE'])\n",
    "\n",
    "    for gen_num, pop in enumerate(pop_list):\n",
    "        for chr_rank, chr in enumerate(pop.chromosomes):\n",
    "            writer.writerow([\n",
    "                gen_num, chr_rank, chr.chr_id, chr.genes, chr.fitness, \n",
    "                chr.test_EXP_VAR_SCORE, chr.test_MAE, chr.test_MAPE, \n",
    "                chr.test_MAX_ERROR, chr.test_MSE, chr.test_R2, \n",
    "                chr.test_RMSE, chr.train_EXP_VAR_SCORE, chr.train_MAE, \n",
    "                chr.train_MAPE, chr.train_MAX_ERROR, chr.train_MSE, \n",
    "                chr.train_R2, chr.train_RMSE\n",
    "            ])"
   ]
  },
  {
   "cell_type": "code",
   "execution_count": null,
   "metadata": {
    "pycharm": {
     "name": "#%%\n"
    }
   },
   "outputs": [],
   "source": []
  }
 ],
 "metadata": {
  "kernelspec": {
   "display_name": "Python 3 (ipykernel)",
   "language": "python",
   "name": "python3"
  },
  "language_info": {
   "codemirror_mode": {
    "name": "ipython",
    "version": 3
   },
   "file_extension": ".py",
   "mimetype": "text/x-python",
   "name": "python",
   "nbconvert_exporter": "python",
   "pygments_lexer": "ipython3",
   "version": "3.10.9"
  },
  "toc": {
   "base_numbering": 1,
   "nav_menu": {},
   "number_sections": true,
   "sideBar": true,
   "skip_h1_title": false,
   "title_cell": "Table of Contents",
   "title_sidebar": "Contents",
   "toc_cell": false,
   "toc_position": {},
   "toc_section_display": true,
   "toc_window_display": false
  },
  "varInspector": {
   "cols": {
    "lenName": 16,
    "lenType": 16,
    "lenVar": 40
   },
   "kernels_config": {
    "python": {
     "delete_cmd_postfix": "",
     "delete_cmd_prefix": "del ",
     "library": "var_list.py",
     "varRefreshCmd": "print(var_dic_list())"
    },
    "r": {
     "delete_cmd_postfix": ") ",
     "delete_cmd_prefix": "rm(",
     "library": "var_list.r",
     "varRefreshCmd": "cat(var_dic_list()) "
    }
   },
   "types_to_exclude": [
    "module",
    "function",
    "builtin_function_or_method",
    "instance",
    "_Feature"
   ],
   "window_display": false
  }
 },
 "nbformat": 4,
 "nbformat_minor": 1
}
